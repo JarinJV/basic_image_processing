{
 "cells": [
  {
   "cell_type": "markdown",
   "id": "a0b26449-c54e-47ca-b43f-9b1935bd051b",
   "metadata": {
    "tags": []
   },
   "source": [
    "**Gradio interface to interact with a digit recognition model trained on the MNIST dataset**"
   ]
  },
  {
   "cell_type": "markdown",
   "id": "2dc0941b-6753-46e9-b531-cc2bb6d9f442",
   "metadata": {},
   "source": [
    "# Install Gradio"
   ]
  },
  {
   "cell_type": "code",
   "execution_count": 18,
   "id": "ae3ac7cf-9dd5-43c8-adc9-41a5441865f6",
   "metadata": {
    "tags": []
   },
   "outputs": [],
   "source": [
    "# pip install gradio"
   ]
  },
  {
   "cell_type": "markdown",
   "id": "f5fc88c4-473f-435b-8ae6-85ee3635fa74",
   "metadata": {},
   "source": [
    "Install the Gradio library, which is used to create interactive web interfaces for machine learning models"
   ]
  },
  {
   "cell_type": "markdown",
   "id": "0d2b5353-d019-4adc-937b-e4c75ee5477c",
   "metadata": {},
   "source": [
    "# Import Libraries"
   ]
  },
  {
   "cell_type": "code",
   "execution_count": 19,
   "id": "0acf5568-0602-46f6-b8a4-f4e10cfea0d2",
   "metadata": {
    "tags": []
   },
   "outputs": [],
   "source": [
    "import gradio as gr\n",
    "import tensorflow as tf\n",
    "import numpy as np"
   ]
  },
  {
   "cell_type": "markdown",
   "id": "2ee4f2e8-e854-467f-b02d-6060c5c76e1a",
   "metadata": {},
   "source": [
    "`gradio` is used for creating the web interface.\n",
    "\n",
    "`tensorflow` is used to load and interact with the trained model.\n",
    "\n",
    "`numpy` is used for array manipulations."
   ]
  },
  {
   "cell_type": "markdown",
   "id": "941b6794-d9ae-48aa-9f4f-0fa5983fe364",
   "metadata": {},
   "source": [
    "# Load the Trained Model"
   ]
  },
  {
   "cell_type": "code",
   "execution_count": 20,
   "id": "2dae8002-1bc8-412d-9ce2-4f1b31ada669",
   "metadata": {
    "tags": []
   },
   "outputs": [],
   "source": [
    "model = tf.keras.models.load_model('mnist_cnn_model.h5')"
   ]
  },
  {
   "cell_type": "markdown",
   "id": "e322df59-796e-4cae-9f76-221e362bc3dd",
   "metadata": {},
   "source": [
    "`load_model` loads the previously saved model from the file mnist_cnn_model.h5"
   ]
  },
  {
   "cell_type": "markdown",
   "id": "a075845b-410d-40ca-a9aa-ac0098c2f9e0",
   "metadata": {},
   "source": [
    "# Define Prediction Function"
   ]
  },
  {
   "cell_type": "code",
   "execution_count": 21,
   "id": "c7372d34-b5d2-42a5-8d8e-79b4c631527a",
   "metadata": {
    "tags": []
   },
   "outputs": [],
   "source": [
    "def predict_digit(image):\n",
    "    # Preprocess the image to match the input format of the model\n",
    "    image = np.array(image).astype('float32') / 255.0\n",
    "    image = np.expand_dims(image, axis=0)\n",
    "    image = np.expand_dims(image, axis=-1)\n",
    "    \n",
    "    # Predict the digit\n",
    "    predictions = model.predict(image)\n",
    "    predicted_digit = np.argmax(predictions)\n",
    "    confidence = np.max(predictions)\n",
    "    \n",
    "    # Check if the confidence is high enough\n",
    "    if confidence > 0.5:\n",
    "        return str(predicted_digit)\n",
    "    else:\n",
    "        return \"Not a number\""
   ]
  },
  {
   "cell_type": "markdown",
   "id": "9ff229df-54f6-4788-b464-a419636226ea",
   "metadata": {
    "tags": []
   },
   "source": [
    "**Preprocess the Image:**\n",
    "\n",
    "`np.array(image)` converts the input image to a NumPy array.\n",
    "\n",
    "`.astype('float32') / 255.0` normalizes the image to the range [0, 1].\n",
    "\n",
    "`np.expand_dims(image, axis=0)` adds a batch dimension.\n",
    "\n",
    "`np.expand_dims(image, axis=-1)` adds a channel dimension to match the model's input shape (28x28x1).\n",
    "\n",
    "**Predict the Digit:**\n",
    "\n",
    "`model.predict(image)` makes predictions on the preprocessed image.\n",
    "\n",
    "`np.argmax(predictions)` finds the index of the highest probability, which corresponds to the predicted digit.\n",
    "\n",
    "`np.max(predictions)` gives the confidence of the prediction.\n",
    "\n",
    "**Check Confidence:**\n",
    "\n",
    "If the confidence is greater than 0.5, return the predicted digit.<BR>\n",
    "Otherwise, return \"Not a number\"."
   ]
  },
  {
   "cell_type": "markdown",
   "id": "3737fda4-4832-46e5-b134-724aaa7c8efd",
   "metadata": {},
   "source": [
    "# Create the Gradio Interface"
   ]
  },
  {
   "cell_type": "code",
   "execution_count": 22,
   "id": "d44d4c14-caef-45b2-a1e1-38227bde3e31",
   "metadata": {
    "tags": []
   },
   "outputs": [],
   "source": [
    "interface = gr.Interface(\n",
    "    fn=predict_digit,\n",
    "    inputs=\"sketchpad\",\n",
    "    outputs=\"text\",\n",
    "    title=\"Digit Recognizer\",\n",
    "    description=\"Draw a digit and the model will predict the number.\"\n",
    ")"
   ]
  },
  {
   "cell_type": "markdown",
   "id": "51bc0b7e-97d0-428a-94f5-4538c46abb55",
   "metadata": {},
   "source": [
    "`fn=predict_digit` specifies the function to be called when an input is provided.\n",
    "\n",
    "`inputs=\"sketchpad\"` creates a drawing area where users can draw digits.\n",
    "\n",
    "`outputs=\"text\"` displays the prediction result as text.\n",
    "\n",
    "`title` and `description` provide a title and description for the web interface."
   ]
  },
  {
   "cell_type": "markdown",
   "id": "303a30d0-9b0e-480f-affa-66e85eb4056b",
   "metadata": {
    "tags": []
   },
   "source": [
    "# Launch the Interface"
   ]
  },
  {
   "cell_type": "code",
   "execution_count": 23,
   "id": "55400ac2-9a44-40bc-9b4f-678b22586543",
   "metadata": {
    "tags": []
   },
   "outputs": [
    {
     "name": "stdout",
     "output_type": "stream",
     "text": [
      "Running on local URL:  http://127.0.0.1:7863\n",
      "\n",
      "To create a public link, set `share=True` in `launch()`.\n"
     ]
    },
    {
     "data": {
      "text/html": [
       "<div><iframe src=\"http://127.0.0.1:7863/\" width=\"100%\" height=\"500\" allow=\"autoplay; camera; microphone; clipboard-read; clipboard-write;\" frameborder=\"0\" allowfullscreen></iframe></div>"
      ],
      "text/plain": [
       "<IPython.core.display.HTML object>"
      ]
     },
     "metadata": {},
     "output_type": "display_data"
    },
    {
     "data": {
      "text/plain": []
     },
     "execution_count": 23,
     "metadata": {},
     "output_type": "execute_result"
    },
    {
     "name": "stdout",
     "output_type": "stream",
     "text": [
      "IMPORTANT: You are using gradio version 3.43.1, however version 4.29.0 is available, please upgrade.\n",
      "--------\n",
      "1/1 [==============================] - 0s 77ms/step\n",
      "1/1 [==============================] - 0s 22ms/step\n",
      "1/1 [==============================] - 0s 23ms/step\n",
      "1/1 [==============================] - 0s 24ms/step\n"
     ]
    }
   ],
   "source": [
    "interface.launch()"
   ]
  },
  {
   "cell_type": "markdown",
   "id": "e6fd0380-a165-4920-9142-cb3d0034af62",
   "metadata": {},
   "source": [
    "This creates a web application where users can draw a digit, and the trained model predicts the digit."
   ]
  }
 ],
 "metadata": {
  "kernelspec": {
   "display_name": "Python 3 (ipykernel)",
   "language": "python",
   "name": "python3"
  },
  "language_info": {
   "codemirror_mode": {
    "name": "ipython",
    "version": 3
   },
   "file_extension": ".py",
   "mimetype": "text/x-python",
   "name": "python",
   "nbconvert_exporter": "python",
   "pygments_lexer": "ipython3",
   "version": "3.11.5"
  }
 },
 "nbformat": 4,
 "nbformat_minor": 5
}
