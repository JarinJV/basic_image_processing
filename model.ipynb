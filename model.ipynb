{
 "cells": [
  {
   "cell_type": "markdown",
   "id": "756d7c28-56f8-42ab-a5c2-f232af4083b7",
   "metadata": {
    "tags": []
   },
   "source": [
    "**Training a Convolutional Neural Network (CNN) on the MNIST dataset using TensorFlow and Keras**"
   ]
  },
  {
   "cell_type": "markdown",
   "id": "890a9d8c-4f26-4472-b239-409055c497b1",
   "metadata": {},
   "source": [
    "This file loads the MNIST dataset, preprocesses the data by normalizing and reshaping it, defines a CNN model, compiles it, trains it on the data, and finally saves the trained model."
   ]
  },
  {
   "cell_type": "code",
   "execution_count": null,
   "id": "1d87b95c-194b-4e19-8e9a-753573209925",
   "metadata": {},
   "outputs": [],
   "source": [
    "# run all"
   ]
  },
  {
   "cell_type": "markdown",
   "id": "3fac3fa5-d296-4815-8ac4-3dc8e0210e4c",
   "metadata": {
    "tags": []
   },
   "source": [
    "# Import Libraries"
   ]
  },
  {
   "cell_type": "code",
   "execution_count": 19,
   "id": "3e6ac92b-2396-435b-85d4-24e6062d4c47",
   "metadata": {
    "tags": []
   },
   "outputs": [],
   "source": [
    "import tensorflow as tf\n",
    "from tensorflow.keras.models import Sequential\n",
    "from tensorflow.keras.layers import Conv2D, MaxPooling2D, Flatten, Dense"
   ]
  },
  {
   "cell_type": "markdown",
   "id": "23b26780-03b6-4c4e-84de-5a28f1443367",
   "metadata": {},
   "source": [
    "`tensorflow` is an open-source library for machine learning.\n",
    "\n",
    "`Sequential` is a linear stack of layers.\n",
    "\n",
    "`Conv2D` is a 2D convolutional layer.\n",
    "\n",
    "`MaxPooling2D` is a max pooling layer.\n",
    "\n",
    "`Flatten` flattens the input.\n",
    "\n",
    "`Dense` is a fully connected layer."
   ]
  },
  {
   "cell_type": "markdown",
   "id": "3f46352c-b77f-457e-aad4-19c799d8f4b9",
   "metadata": {
    "tags": []
   },
   "source": [
    "# Load the MNIST Dataset"
   ]
  },
  {
   "cell_type": "code",
   "execution_count": 20,
   "id": "9311c8b9-4136-403b-8b78-789e78c1008b",
   "metadata": {
    "tags": []
   },
   "outputs": [],
   "source": [
    "mnist = tf.keras.datasets.mnist\n",
    "(x_train, y_train), (x_test, y_test) = mnist.load_data()"
   ]
  },
  {
   "cell_type": "markdown",
   "id": "0b4dacdb-1fe0-4723-ae7c-2b982be7a5eb",
   "metadata": {},
   "source": [
    "The MNIST dataset is a collection of 60,000 training images and 10,000 testing images of handwritten digits (0-9).\n",
    "\n",
    "`load_data()` downloads the dataset and splits it into training and testing sets.\n",
    "\n",
    "`x_train, y_train` are the training data and labels.\n",
    "\n",
    "`x_test, y_test` are the testing data and labels."
   ]
  },
  {
   "cell_type": "markdown",
   "id": "b6f85f37-f792-40a3-aa2e-5db819fd6e61",
   "metadata": {
    "tags": []
   },
   "source": [
    "# Normalize the Data"
   ]
  },
  {
   "cell_type": "code",
   "execution_count": 21,
   "id": "b5517d6b-1b94-430f-8c93-05b5c6f2749d",
   "metadata": {
    "tags": []
   },
   "outputs": [],
   "source": [
    "x_train, x_test = x_train / 255.0, x_test / 255.0"
   ]
  },
  {
   "cell_type": "markdown",
   "id": "beb6401e-3a4f-475d-9cd0-c74ca3aeacec",
   "metadata": {},
   "source": [
    "The pixel values of the images range from 0 to 255. Normalizing them to a range of 0 to 1 helps in faster convergence during training.\n",
    "\n",
    "Dividing by 255.0 scales the values."
   ]
  },
  {
   "cell_type": "markdown",
   "id": "b85df408-e14d-42f7-81d7-3e29689f2cdf",
   "metadata": {
    "tags": []
   },
   "source": [
    "# Reshape the Data"
   ]
  },
  {
   "cell_type": "code",
   "execution_count": 22,
   "id": "d1e4c970-1de7-4ca6-8707-af9e736e30ce",
   "metadata": {
    "tags": []
   },
   "outputs": [],
   "source": [
    "x_train = x_train.reshape(-1, 28, 28, 1)\n",
    "x_test = x_test.reshape(-1, 28, 28, 1)"
   ]
  },
  {
   "cell_type": "markdown",
   "id": "cb6d163e-2747-4cdb-8c5b-665d1ac4a52b",
   "metadata": {},
   "source": [
    "The MNIST images are 28x28 pixels.\n",
    "\n",
    "* `reshape` changes the shape of the dataset to include a single color channel (grayscale), making the shape (28, 28, 1).\n",
    "\n",
    "* `-1` allows the reshaping to automatically calculate the correct size for this dimension."
   ]
  },
  {
   "cell_type": "markdown",
   "id": "b4b10918-1ac1-4ea7-b4b9-8d194765372f",
   "metadata": {
    "tags": []
   },
   "source": [
    "# Build the CNN Model"
   ]
  },
  {
   "cell_type": "code",
   "execution_count": 23,
   "id": "3fd9ec74-48fc-450a-af7c-6ad510ff7792",
   "metadata": {
    "tags": []
   },
   "outputs": [],
   "source": [
    "model = Sequential([\n",
    "    Conv2D(32, (3, 3), activation='relu', input_shape=(28, 28, 1)),\n",
    "    MaxPooling2D((2, 2)),\n",
    "    Conv2D(64, (3, 3), activation='relu'),\n",
    "    MaxPooling2D((2, 2)),\n",
    "    Flatten(),\n",
    "    Dense(64, activation='relu'),\n",
    "    Dense(10, activation='softmax')\n",
    "])"
   ]
  },
  {
   "cell_type": "markdown",
   "id": "15522703-0947-40fa-834d-9dbe77ced298",
   "metadata": {},
   "source": [
    "`Sequential` creates a linear stack of layers.\n",
    "\n",
    "The first layer is a `Conv2D` layer with 32 filters, a 3x3 kernel, and ReLU activation function. The input_shape is specified for the first layer.\n",
    "\n",
    "`MaxPooling2D` with a 2x2 pool size reduces the spatial dimensions of the feature maps.\n",
    "\n",
    "Another `Conv2D` layer with 64 filters and a 3x3 kernel.\n",
    "\n",
    "Another `MaxPooling2D` layer.\n",
    "\n",
    "`Flatten` layer converts the 2D feature maps to a 1D vector.\n",
    "\n",
    "`Dense` layer with 64 units and ReLU activation.\n",
    "\n",
    "`Dense` output layer with 10 units (for the 10 classes) and softmax activation."
   ]
  },
  {
   "cell_type": "markdown",
   "id": "f5d470db-06a8-471a-88ea-4aab86c44507",
   "metadata": {
    "tags": []
   },
   "source": [
    "# Compile the Model"
   ]
  },
  {
   "cell_type": "code",
   "execution_count": 24,
   "id": "3b59ca15-d336-422c-a2c7-abc31e6fb64e",
   "metadata": {
    "tags": []
   },
   "outputs": [],
   "source": [
    "model.compile(optimizer='adam',\n",
    "              loss='sparse_categorical_crossentropy',\n",
    "              metrics=['accuracy'])\n"
   ]
  },
  {
   "cell_type": "markdown",
   "id": "6fdf6a0b-75d7-457d-9991-bb280e405e3b",
   "metadata": {},
   "source": [
    "`compile` configures the model for training.\n",
    "\n",
    "`optimizer='adam'` specifies the Adam optimizer.\n",
    "\n",
    "`loss='sparse_categorical_crossentropy'` is used for multi-class classification where labels are integers.\n",
    "\n",
    "`metrics=['accuracy']` tracks the accuracy of the model."
   ]
  },
  {
   "cell_type": "markdown",
   "id": "0bffb808-4e76-4afd-99ee-cbc65e99abfc",
   "metadata": {
    "tags": []
   },
   "source": [
    "# Train the Model"
   ]
  },
  {
   "cell_type": "code",
   "execution_count": 25,
   "id": "693be579-7263-4df6-ad1a-b6fbcbfdf32e",
   "metadata": {
    "tags": []
   },
   "outputs": [
    {
     "name": "stdout",
     "output_type": "stream",
     "text": [
      "Epoch 1/5\n",
      "1875/1875 [==============================] - 16s 8ms/step - loss: 0.1510 - accuracy: 0.9535 - val_loss: 0.0625 - val_accuracy: 0.9784\n",
      "Epoch 2/5\n",
      "1875/1875 [==============================] - 15s 8ms/step - loss: 0.0508 - accuracy: 0.9841 - val_loss: 0.0408 - val_accuracy: 0.9871\n",
      "Epoch 3/5\n",
      "1875/1875 [==============================] - 15s 8ms/step - loss: 0.0364 - accuracy: 0.9883 - val_loss: 0.0318 - val_accuracy: 0.9892\n",
      "Epoch 4/5\n",
      "1875/1875 [==============================] - 15s 8ms/step - loss: 0.0257 - accuracy: 0.9920 - val_loss: 0.0270 - val_accuracy: 0.9912\n",
      "Epoch 5/5\n",
      "1875/1875 [==============================] - 16s 9ms/step - loss: 0.0198 - accuracy: 0.9934 - val_loss: 0.0284 - val_accuracy: 0.9914\n"
     ]
    },
    {
     "data": {
      "text/plain": [
       "<keras.src.callbacks.History at 0x1476f7bd0d0>"
      ]
     },
     "execution_count": 25,
     "metadata": {},
     "output_type": "execute_result"
    }
   ],
   "source": [
    "model.fit(x_train, y_train, epochs=5, validation_data=(x_test, y_test))"
   ]
  },
  {
   "cell_type": "markdown",
   "id": "29fec4b3-7940-487d-85c7-6526d5fc4e01",
   "metadata": {},
   "source": [
    "`fit` trains the model on the training data.\n",
    "\n",
    "`epochs=5` specifies the number of times to iterate over the training data.\n",
    "\n",
    "`validation_data=(x_test, y_test)` evaluates the model on the test data at the end of each epoch."
   ]
  },
  {
   "cell_type": "markdown",
   "id": "e6d1ede5-e5a7-40cc-871b-19bb0f30f8d1",
   "metadata": {
    "tags": []
   },
   "source": [
    "# Save the Model"
   ]
  },
  {
   "cell_type": "code",
   "execution_count": 26,
   "id": "0806bd73-6854-49f3-84b4-282e241dbdcd",
   "metadata": {
    "tags": []
   },
   "outputs": [],
   "source": [
    "model.save('mnist_cnn_model.h5')"
   ]
  },
  {
   "cell_type": "markdown",
   "id": "7dd0fdd6-3f0d-4c0d-b6d4-7e33f55d7fb5",
   "metadata": {},
   "source": [
    "`save` saves the trained model to a file named `mnist_cnn_model.h5`.\n",
    "\n",
    "This allows the model to be loaded and used later without retraining."
   ]
  }
 ],
 "metadata": {
  "kernelspec": {
   "display_name": "Python 3 (ipykernel)",
   "language": "python",
   "name": "python3"
  },
  "language_info": {
   "codemirror_mode": {
    "name": "ipython",
    "version": 3
   },
   "file_extension": ".py",
   "mimetype": "text/x-python",
   "name": "python",
   "nbconvert_exporter": "python",
   "pygments_lexer": "ipython3",
   "version": "3.11.5"
  }
 },
 "nbformat": 4,
 "nbformat_minor": 5
}
