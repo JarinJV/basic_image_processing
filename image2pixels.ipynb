{
 "cells": [
  {
   "cell_type": "markdown",
   "id": "fdd823ba-8497-4ac7-85b3-792178540bfa",
   "metadata": {},
   "source": [
    "**Python script that demonstrates how to load and visualize an image from the MNIST dataset using TensorFlow, NumPy, and Matplotlib.** \n",
    "\n",
    "Let's break it down step-by-step:"
   ]
  },
  {
   "cell_type": "markdown",
   "id": "2ad9a115-045f-495b-9347-14e22b6bcb61",
   "metadata": {},
   "source": [
    "# Step 1: Import Necessary Libraries"
   ]
  },
  {
   "cell_type": "code",
   "execution_count": 10,
   "id": "bd343b67-c1d1-4cd7-94b4-71d7e5350d24",
   "metadata": {
    "tags": []
   },
   "outputs": [],
   "source": [
    "import numpy as np\n",
    "import matplotlib.pyplot as plt\n",
    "import tensorflow as tf"
   ]
  },
  {
   "cell_type": "markdown",
   "id": "3e7c79fa-9a19-4253-abb5-076c9bf6bdf8",
   "metadata": {},
   "source": [
    "`numpy`: A fundamental package for scientific computing in Python.\n",
    "\n",
    "`matplotlib.pyplot`: A plotting library for creating static, animated, and interactive visualizations in Python.\n",
    "\n",
    "`tensorflow`: An end-to-end open-source platform for machine learning, which also includes tools for working with datasets."
   ]
  },
  {
   "cell_type": "markdown",
   "id": "24f50eb1-8530-433d-bc78-42fb426824d8",
   "metadata": {},
   "source": [
    "# Step 2: Load the MNIST Dataset"
   ]
  },
  {
   "cell_type": "code",
   "execution_count": 11,
   "id": "1120e30e-28e0-46d3-bd1e-6ac1a09ecbb6",
   "metadata": {
    "tags": []
   },
   "outputs": [],
   "source": [
    "# Load the MNIST dataset\n",
    "mnist = tf.keras.datasets.mnist\n",
    "(x_train, y_train), (x_test, y_test) = mnist.load_data()"
   ]
  },
  {
   "cell_type": "markdown",
   "id": "6e9034a7-51c2-4689-bf34-f0e6910225f5",
   "metadata": {},
   "source": [
    "The MNIST dataset is a collection of 70,000 handwritten digits split into training and test sets.\n",
    "\n",
    "`tf.keras.datasets.mnist`: A built-in utility in TensorFlow to load the MNIST dataset.\n",
    "\n",
    "`mnist.load_data()`: Loads the dataset, returning two tuples:\n",
    "\n",
    "* `(x_train, y_train)`: Training data and corresponding labels.\n",
    "\n",
    "* `(x_test, y_test)`: Test data and corresponding labels.\n",
    "\n",
    "`x_train and x_test`: Arrays of images, where each image is a 28x28 pixel grid.\n",
    "\n",
    "`y_train and y_test`: Arrays of labels, representing the digit (0-9) depicted in the images."
   ]
  },
  {
   "cell_type": "markdown",
   "id": "7bbbceda-7c09-4850-9561-7b353ca710c9",
   "metadata": {},
   "source": [
    "# Step 3: Select an Image to Visualize"
   ]
  },
  {
   "cell_type": "code",
   "execution_count": 12,
   "id": "cb9c36de-af35-461a-94ed-c904e0012a74",
   "metadata": {
    "tags": []
   },
   "outputs": [],
   "source": [
    "# Select an image to visualize\n",
    "index = 10  # You can change this index to see different images\n",
    "image = x_train[index]\n",
    "label = y_train[index]"
   ]
  },
  {
   "cell_type": "markdown",
   "id": "c779a6d6-8840-4621-9c29-cf85f49882c6",
   "metadata": {},
   "source": [
    "`index`: Specifies which image from the training set to visualize.\n",
    "\n",
    "`image`: Retrieves the image at the specified index from the training set.\n",
    "\n",
    "`label`: Retrieves the corresponding label for the image."
   ]
  },
  {
   "cell_type": "markdown",
   "id": "4fc5940e-89d6-4af3-87ba-1bc22934a7d2",
   "metadata": {},
   "source": [
    "# Step 4: Print the Pixel Values and Label"
   ]
  },
  {
   "cell_type": "code",
   "execution_count": 9,
   "id": "9e4115f5-48cc-4cf1-8160-513de5531c52",
   "metadata": {
    "tags": []
   },
   "outputs": [
    {
     "name": "stdout",
     "output_type": "stream",
     "text": [
      "Label: 3\n",
      "Pixel values:\n",
      "[[  0   0   0   0   0   0   0   0   0   0   0   0   0   0   0   0   0   0\n",
      "    0   0   0   0   0   0   0   0   0   0]\n",
      " [  0   0   0   0   0   0   0   0   0   0   0   0   0   0   0   0   0   0\n",
      "    0   0   0   0   0   0   0   0   0   0]\n",
      " [  0   0   0   0   0   0   0   0   0   0   0   0   0   0   0   0   0   0\n",
      "    0   0   0   0   0   0   0   0   0   0]\n",
      " [  0   0   0   0   0   0   0   0   0   0   0   0   0   0   0   0   0   0\n",
      "    0   0   0   0   0   0   0   0   0   0]\n",
      " [  0   0   0   0   0   0   0   0   0   0   0  42 118 219 166 118 118   6\n",
      "    0   0   0   0   0   0   0   0   0   0]\n",
      " [  0   0   0   0   0   0   0   0   0   0 103 242 254 254 254 254 254  66\n",
      "    0   0   0   0   0   0   0   0   0   0]\n",
      " [  0   0   0   0   0   0   0   0   0   0  18 232 254 254 254 254 254 238\n",
      "   70   0   0   0   0   0   0   0   0   0]\n",
      " [  0   0   0   0   0   0   0   0   0   0   0 104 244 254 224 254 254 254\n",
      "  141   0   0   0   0   0   0   0   0   0]\n",
      " [  0   0   0   0   0   0   0   0   0   0   0   0 207 254 210 254 254 254\n",
      "   34   0   0   0   0   0   0   0   0   0]\n",
      " [  0   0   0   0   0   0   0   0   0   0   0   0  84 206 254 254 254 254\n",
      "   41   0   0   0   0   0   0   0   0   0]\n",
      " [  0   0   0   0   0   0   0   0   0   0   0   0   0  24 209 254 254 254\n",
      "  171   0   0   0   0   0   0   0   0   0]\n",
      " [  0   0   0   0   0   0   0   0   0   0   0   0  91 137 253 254 254 254\n",
      "  112   0   0   0   0   0   0   0   0   0]\n",
      " [  0   0   0   0   0   0   0   0   0   0  40 214 250 254 254 254 254 254\n",
      "   34   0   0   0   0   0   0   0   0   0]\n",
      " [  0   0   0   0   0   0   0   0   0   0  81 247 254 254 254 254 254 254\n",
      "  146   0   0   0   0   0   0   0   0   0]\n",
      " [  0   0   0   0   0   0   0   0   0   0   0 110 246 254 254 254 254 254\n",
      "  171   0   0   0   0   0   0   0   0   0]\n",
      " [  0   0   0   0   0   0   0   0   0   0   0   0  73  89  89  93 240 254\n",
      "  171   0   0   0   0   0   0   0   0   0]\n",
      " [  0   0   0   0   0   0   0   0   0   0   0   0   0   0   0   1 128 254\n",
      "  219  31   0   0   0   0   0   0   0   0]\n",
      " [  0   0   0   0   0   0   0   0   0   0   0   0   0   0   0   7 254 254\n",
      "  214  28   0   0   0   0   0   0   0   0]\n",
      " [  0   0   0   0   0   0   0   0   0   0   0   0   0   0   0 138 254 254\n",
      "  116   0   0   0   0   0   0   0   0   0]\n",
      " [  0   0   0   0   0   0  19 177  90   0   0   0   0   0  25 240 254 254\n",
      "   34   0   0   0   0   0   0   0   0   0]\n",
      " [  0   0   0   0   0   0 164 254 215  63  36   0  51  89 206 254 254 139\n",
      "    8   0   0   0   0   0   0   0   0   0]\n",
      " [  0   0   0   0   0   0  57 197 254 254 222 180 241 254 254 253 213  11\n",
      "    0   0   0   0   0   0   0   0   0   0]\n",
      " [  0   0   0   0   0   0   0 140 105 254 254 254 254 254 254 236   0   0\n",
      "    0   0   0   0   0   0   0   0   0   0]\n",
      " [  0   0   0   0   0   0   0   0   7 117 117 165 254 254 239  50   0   0\n",
      "    0   0   0   0   0   0   0   0   0   0]\n",
      " [  0   0   0   0   0   0   0   0   0   0   0   0   0   0   0   0   0   0\n",
      "    0   0   0   0   0   0   0   0   0   0]\n",
      " [  0   0   0   0   0   0   0   0   0   0   0   0   0   0   0   0   0   0\n",
      "    0   0   0   0   0   0   0   0   0   0]\n",
      " [  0   0   0   0   0   0   0   0   0   0   0   0   0   0   0   0   0   0\n",
      "    0   0   0   0   0   0   0   0   0   0]\n",
      " [  0   0   0   0   0   0   0   0   0   0   0   0   0   0   0   0   0   0\n",
      "    0   0   0   0   0   0   0   0   0   0]]\n"
     ]
    }
   ],
   "source": [
    "# Print the pixel values\n",
    "print(f'Label: {label}')\n",
    "print('Pixel values:')\n",
    "print(image)"
   ]
  },
  {
   "cell_type": "markdown",
   "id": "ace3eea4-3b3d-45cf-9d15-00fdd79f2853",
   "metadata": {},
   "source": [
    "`print(f'Label: {label}')`: Prints the label of the selected image.\n",
    "\n",
    "`print('Pixel values:')`: A header for the pixel values.\n",
    "\n",
    "`print(image)`: Prints the pixel values of the selected image. Each pixel value ranges from 0 (white) to 255 (black)."
   ]
  },
  {
   "cell_type": "markdown",
   "id": "ebbe6316-b10a-4381-8fc0-5650f077717f",
   "metadata": {
    "tags": []
   },
   "source": [
    "# Step 5: Display the Image"
   ]
  },
  {
   "cell_type": "code",
   "execution_count": 13,
   "id": "deb742b1-ad7b-46a0-9524-631dfd838bb0",
   "metadata": {
    "tags": []
   },
   "outputs": [
    {
     "data": {
      "image/png": "[encoded data removed]",
      "text/plain": [
       "<Figure size 640x480 with 1 Axes>"
      ]
     },
     "metadata": {},
     "output_type": "display_data"
    }
   ],
   "source": [
    "# Display the image\n",
    "plt.imshow(image, cmap='gray')\n",
    "plt.title(f'Label: {label}')\n",
    "plt.show()"
   ]
  },
  {
   "cell_type": "markdown",
   "id": "5905566d-8bac-41b5-8903-6c6217c17377",
   "metadata": {
    "tags": []
   },
   "source": [
    "`plt.imshow(image, cmap='gray')`: Displays the image using Matplotlib's `imshow` function with a grayscale colormap `(cmap='gray')`.\n",
    "\n",
    "`plt.title(f'Label: {label}')`: Sets the title of the plot to the label of the image.\n",
    "\n",
    "`plt.show()`: Renders the plot."
   ]
  },
  {
   "cell_type": "markdown",
   "id": "a82d0ff1-f7cc-45fd-9aea-d9bd7325bae9",
   "metadata": {
    "tags": []
   },
   "source": [
    "**Summary**\n",
    "\n",
    "This code snippet:\n",
    "\n",
    "* Loads the MNIST dataset.\n",
    "* Selects a specific image and its label from the training set.\n",
    "* Prints the label and pixel values of the selected image.\n",
    "* Displays the image using Matplotlib."
   ]
  }
 ],
 "metadata": {
  "kernelspec": {
   "display_name": "Python 3 (ipykernel)",
   "language": "python",
   "name": "python3"
  },
  "language_info": {
   "codemirror_mode": {
    "name": "ipython",
    "version": 3
   },
   "file_extension": ".py",
   "mimetype": "text/x-python",
   "name": "python",
   "nbconvert_exporter": "python",
   "pygments_lexer": "ipython3",
   "version": "3.11.5"
  }
 },
 "nbformat": 4,
 "nbformat_minor": 5
}
